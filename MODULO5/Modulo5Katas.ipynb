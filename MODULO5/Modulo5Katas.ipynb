{
 "cells": [
  {
   "cell_type": "markdown",
   "metadata": {},
   "source": [
    "## Ejercicio1 - Utilizar operadores aritméticos"
   ]
  },
  {
   "cell_type": "code",
   "execution_count": 1,
   "metadata": {},
   "outputs": [],
   "source": [
    "# Crear variables para almacenar las dos distancias\n",
    "# ¡Asegúrate de quitar las comas!\n",
    "distancia_tierra = 149597870\n",
    "distancia_jupiter = 778547200"
   ]
  },
  {
   "cell_type": "code",
   "execution_count": 4,
   "metadata": {},
   "outputs": [
    {
     "name": "stdout",
     "output_type": "stream",
     "text": [
      "628949330\n",
      "390577534\n"
     ]
    }
   ],
   "source": [
    "#Realizar la operación\n",
    "# Calcular la distancia entre planetas\n",
    "distanciaKm = distancia_jupiter - distancia_tierra\n",
    "print(distanciaKm)\n",
    "\n",
    "distanciaMillas = distanciaKm * 0.621\n",
    "print(round(distanciaMillas))\n"
   ]
  },
  {
   "cell_type": "markdown",
   "metadata": {},
   "source": [
    "## Ejercicio 2: convierte cadenas en números y usa valores absolutos"
   ]
  },
  {
   "cell_type": "code",
   "execution_count": 5,
   "metadata": {},
   "outputs": [],
   "source": [
    "# Almacenar las entradas del usuario\n",
    "#Pista: variable = input(\"¿Cuál es tu nombre?\")\n",
    "planeta1 = input(\"Distancia del sol para planeta 1: \")\n",
    "planeta2 = input(\"Distancia del sol para planeta 2: \")"
   ]
  },
  {
   "cell_type": "code",
   "execution_count": 6,
   "metadata": {},
   "outputs": [],
   "source": [
    "# Convierte las cadenas de ambos planetas a números enteros\n",
    "planeta1 = int(planeta1)\n",
    "planeta2 = int(planeta2)"
   ]
  },
  {
   "cell_type": "code",
   "execution_count": 7,
   "metadata": {},
   "outputs": [
    {
     "name": "stdout",
     "output_type": "stream",
     "text": [
      "50300000\n",
      "31236300.0\n"
     ]
    }
   ],
   "source": [
    "# Realizar el cálculo y determinar el valor absoluto\n",
    "distancia = abs(planeta1 - planeta2)\n",
    "print(distancia)\n",
    "\n",
    "# Convertir de KM a Millas\n",
    "distanciaMillas = distancia * 0.621\n",
    "print(round(distanciaMillas))"
   ]
  }
 ],
 "metadata": {
  "interpreter": {
   "hash": "36f1a25347c5c5dcce5c9a73fa1eaf644c0cdcc08a47726e78f39cec77cc1bf2"
  },
  "kernelspec": {
   "display_name": "Python 3.9.7 64-bit",
   "language": "python",
   "name": "python3"
  },
  "language_info": {
   "codemirror_mode": {
    "name": "ipython",
    "version": 3
   },
   "file_extension": ".py",
   "mimetype": "text/x-python",
   "name": "python",
   "nbconvert_exporter": "python",
   "pygments_lexer": "ipython3",
   "version": "3.9.7"
  },
  "orig_nbformat": 4
 },
 "nbformat": 4,
 "nbformat_minor": 2
}
