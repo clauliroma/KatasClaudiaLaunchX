{
  "cells": [
    {
      "cell_type": "markdown",
      "metadata": {
        "id": "AjJ2UAX_0gUg"
      },
      "source": [
        "## Ejercicio 1: Creación de un bucle \"while\""
      ]
    },
    {
      "cell_type": "markdown",
      "metadata": {
        "id": "a_XKCVTe0mya"
      },
      "source": [
        "# Ejercicio 1: Uso de ciclos while en Python"
      ]
    },
    {
      "cell_type": "code",
      "execution_count": 1,
      "metadata": {
        "id": "ADqBZbI60cxL"
      },
      "outputs": [],
      "source": [
        "# Declara dos variables\n",
        "new_planet = ''\n",
        "planets = []\n",
        "  "
      ]
    },
    {
      "cell_type": "code",
      "execution_count": 2,
      "metadata": {
        "colab": {
          "base_uri": "https://localhost:8080/"
        },
        "id": "r_jxRBuY1k0W",
        "outputId": "2ed3d2b4-4df1-46e9-a088-e61ffff34cf1"
      },
      "outputs": [],
      "source": [
        "# Escribe el ciclo while solicitado\n",
        "while new_planet.lower() != 'done':\n",
        "  if new_planet: \n",
        "    planets.append(new_planet)\n",
        "  new_planet = input('Introduce un nuevo planeta, o escribe done para finalizar: ')"
      ]
    },
    {
      "cell_type": "markdown",
      "metadata": {
        "id": "lxAUzeNq179F"
      },
      "source": [
        "# Ejercicio 2: Creación de un ciclo \"for\""
      ]
    },
    {
      "cell_type": "code",
      "execution_count": 3,
      "metadata": {
        "colab": {
          "base_uri": "https://localhost:8080/"
        },
        "id": "rXJ4ZyUG17WV",
        "outputId": "32545ac9-8795-4e50-a536-1caf351f3778"
      },
      "outputs": [
        {
          "name": "stdout",
          "output_type": "stream",
          "text": [
            "Mercurio\n",
            "Venus\n"
          ]
        }
      ],
      "source": [
        "# Escribe tu ciclo for para iterar en una lista de planetas\n",
        "for planet in planets:\n",
        "  print(planet)"
      ]
    }
  ],
  "metadata": {
    "colab": {
      "name": "Modulo7Kata.ipynb",
      "provenance": []
    },
    "kernelspec": {
      "display_name": "Python 3",
      "name": "python3"
    },
    "language_info": {
      "codemirror_mode": {
        "name": "ipython",
        "version": 3
      },
      "file_extension": ".py",
      "mimetype": "text/x-python",
      "name": "python",
      "nbconvert_exporter": "python",
      "pygments_lexer": "ipython3",
      "version": "3.9.7"
    }
  },
  "nbformat": 4,
  "nbformat_minor": 0
}
