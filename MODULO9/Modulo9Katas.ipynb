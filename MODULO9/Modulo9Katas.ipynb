{
  "cells": [
    {
      "cell_type": "markdown",
      "metadata": {
        "id": "xJu0AsdSVtb9"
      },
      "source": [
        "## Ejercicio: Uso de funciones en Python"
      ]
    },
    {
      "cell_type": "markdown",
      "metadata": {
        "id": "gOGXYsXWVyGr"
      },
      "source": [
        "# Ejercicio 1: Trabajar con argumentos en funciones"
      ]
    },
    {
      "cell_type": "code",
      "execution_count": 1,
      "metadata": {
        "id": "PHDpmxtcOJ-W"
      },
      "outputs": [],
      "source": [
        "# Función para leer 3 tanques de combustible y devuelva un informe\n",
        "def combustibles(tanque1, tanque2, tanque3):\n",
        "  promedio = (tanque1 + tanque2 + tanque3) / 3\n",
        "  return f\"\"\"Reporte General \\n\\nTanque 1: {tanque1} \\nTanque 2: {tanque2} \\nTanque 3: {tanque3} \\nPromedio: {promedio}\"\"\""
      ]
    },
    {
      "cell_type": "code",
      "execution_count": 2,
      "metadata": {
        "colab": {
          "base_uri": "https://localhost:8080/"
        },
        "id": "BjGfaYPJXHXR",
        "outputId": "96ebf31a-e5ad-48be-e51f-38a335039731"
      },
      "outputs": [
        {
          "name": "stdout",
          "output_type": "stream",
          "text": [
            "Reporte General \n",
            "\n",
            "Tanque 1: 50 \n",
            "Tanque 2: 80 \n",
            "Tanque 3: 60 \n",
            "Promedio: 63.333333333333336\n"
          ]
        }
      ],
      "source": [
        "# Llamamos a la función que genera el reporte print(funcion(tanque1, tanque2, tanque3))\n",
        "print(combustibles(50, 80, 60))"
      ]
    },
    {
      "cell_type": "code",
      "execution_count": 3,
      "metadata": {
        "id": "ZibjURIBXva-"
      },
      "outputs": [],
      "source": [
        "# Función promedio\n",
        "def promedio(valores): \n",
        "  suma = sum(valores)\n",
        "  cantidad = len(valores)\n",
        "  promedio = suma / cantidad\n",
        "  return promedio"
      ]
    },
    {
      "cell_type": "code",
      "execution_count": 4,
      "metadata": {
        "colab": {
          "base_uri": "https://localhost:8080/"
        },
        "id": "I00mx70FYUSq",
        "outputId": "617ca35e-0400-4b44-a3eb-b4bc1505a5e3"
      },
      "outputs": [
        {
          "name": "stdout",
          "output_type": "stream",
          "text": [
            "Reporte General \n",
            "\n",
            "Tanque 1: 50 \n",
            "Tanque 2: 80 \n",
            "Tanque 3: 60 \n",
            "Promedio: 63.333333333333336\n"
          ]
        }
      ],
      "source": [
        "# Función para leer 3 tanques de combustible y devuelva un informe\n",
        "def combustibles(tanque1, tanque2, tanque3):\n",
        "  return f\"\"\"Reporte General \\n\\nTanque 1: {tanque1} \\nTanque 2: {tanque2} \\nTanque 3: {tanque3} \\nPromedio: {promedio([tanque1, tanque2, tanque3])}\"\"\"\n",
        "\n",
        "print(combustibles(50, 80, 60))"
      ]
    },
    {
      "cell_type": "markdown",
      "metadata": {
        "id": "pHgntc2WZ-Dc"
      },
      "source": [
        "## Ejercicio 2: Trabajo con argumentos de palabra clave"
      ]
    },
    {
      "cell_type": "markdown",
      "metadata": {
        "id": "tF3abCVQaGEq"
      },
      "source": [
        "# Ejercicio: Trabajar con argumentos de palabras claves en funciones"
      ]
    },
    {
      "cell_type": "code",
      "execution_count": 5,
      "metadata": {
        "colab": {
          "base_uri": "https://localhost:8080/"
        },
        "id": "KK_L3VG2aJ5u",
        "outputId": "682597b3-d61d-42e9-dd0d-13869dbb7913"
      },
      "outputs": [
        {
          "name": "stdout",
          "output_type": "stream",
          "text": [
            "Reporte de Misión \n",
            "\n",
            "Destino: Luna \n",
            "Total de tiempo: 72 minutos \n",
            "Total combustible: 687000\n"
          ]
        }
      ],
      "source": [
        "# Funcion con un informe preciso de la misión. Considera hora de prelanzamiento, tiempo de vuelo, destino, tanque externo y tanque interno\n",
        "def reporte_mision (hora_pre, tiempo_vuelo, destino, tanque_externo, tanque_interno):\n",
        "  return f\"\"\"Reporte de Misión \\n\\nDestino: {destino} \\nTotal de tiempo: {hora_pre + tiempo_vuelo} minutos \\nTotal combustible: {tanque_externo + tanque_interno}\"\"\"\n",
        "\n",
        "print(reporte_mision(12, 60, \"Luna\", 600000, 87000))"
      ]
    },
    {
      "cell_type": "code",
      "execution_count": 6,
      "metadata": {
        "colab": {
          "base_uri": "https://localhost:8080/"
        },
        "id": "i5GolB5pcHKS",
        "outputId": "c1b7d6ea-85d7-4ce6-f9f3-962769c48b3c"
      },
      "outputs": [
        {
          "name": "stdout",
          "output_type": "stream",
          "text": [
            "Reporte de Misión \n",
            "\n",
            "Destino: Luna \n",
            "Total de tiempo: 106 minutos \n",
            "Total combustible: 687000\n"
          ]
        }
      ],
      "source": [
        "# Funcion con un informe preciso de la misión. Considera hora de prelanzamiento, tiempo de vuelo, destino, tanque externo y tanque interno\n",
        "def reporte_mision (destino, *tiempo, **tanques):\n",
        "  return f\"\"\"Reporte de Misión \\n\\nDestino: {destino} \\nTotal de tiempo: {sum(tiempo)} minutos \\nTotal combustible: {sum(tanques.values())}\"\"\"\n",
        "\n",
        "print(reporte_mision(\"Luna\", 12, 60, 34, externo = 600000, interno = 87000))"
      ]
    },
    {
      "cell_type": "code",
      "execution_count": 7,
      "metadata": {
        "colab": {
          "base_uri": "https://localhost:8080/"
        },
        "id": "5bzGoOQQe4XH",
        "outputId": "6a9265a1-12c3-49c0-c315-5da4e047eb47"
      },
      "outputs": [
        {
          "name": "stdout",
          "output_type": "stream",
          "text": [
            "Reporte de Misión \n",
            "\n",
            "Destino: Luna \n",
            "Total de tiempo: 106 minutos \n",
            "Total combustible: 687000\n",
            " Tanque externo: 600000\n",
            " Tanque interno: 87000\n",
            "\n"
          ]
        }
      ],
      "source": [
        "# Escribe tu nueva función\n",
        "def reporte_mision (destino, *tiempo, **tanques):\n",
        "  reporte = f\"\"\"Reporte de Misión \\n\\nDestino: {destino} \\nTotal de tiempo: {sum(tiempo)} minutos \\nTotal combustible: {sum(tanques.values())}\\n\"\"\"\n",
        "  for nombre, combustible in tanques.items():\n",
        "    reporte = reporte + f\" Tanque {nombre}: {combustible}\\n\"\n",
        "  return reporte\n",
        "\n",
        "print(reporte_mision(\"Luna\", 12, 60, 34, externo = 600000, interno = 87000))"
      ]
    }
  ],
  "metadata": {
    "colab": {
      "name": "Modulo9Kata.ipynb",
      "provenance": []
    },
    "kernelspec": {
      "display_name": "Python 3",
      "name": "python3"
    },
    "language_info": {
      "codemirror_mode": {
        "name": "ipython",
        "version": 3
      },
      "file_extension": ".py",
      "mimetype": "text/x-python",
      "name": "python",
      "nbconvert_exporter": "python",
      "pygments_lexer": "ipython3",
      "version": "3.9.7"
    }
  },
  "nbformat": 4,
  "nbformat_minor": 0
}
