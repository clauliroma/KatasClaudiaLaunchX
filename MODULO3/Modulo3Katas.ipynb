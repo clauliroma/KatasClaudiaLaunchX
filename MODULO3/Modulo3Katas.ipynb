{
 "cells": [
  {
   "cell_type": "markdown",
   "metadata": {},
   "source": [
    "## Ejercicio - Escribir declaraciones if, else, y elif"
   ]
  },
  {
   "cell_type": "code",
   "execution_count": 1,
   "metadata": {},
   "outputs": [
    {
     "name": "stdout",
     "output_type": "stream",
     "text": [
      "ADVERTENCIA. Un asteroide se aproxima\n"
     ]
    }
   ],
   "source": [
    "# Añadir el código necesario para crear una variable que guarde la velocidad del asteroide.\n",
    "velocidad = 49\n",
    "# Escribe una expresión de prueba para calcular si necesita una advertencia.\n",
    "# Agregue las instrucciones que se ejecutarán si la expresión de prueba es true o false.\n",
    "if velocidad > 25:\n",
    "    print(\"ADVERTENCIA. Un asteroide se aproxima\")\n",
    "else:\n",
    "    print(\"Fuera de peligro\")"
   ]
  },
  {
   "cell_type": "code",
   "execution_count": 2,
   "metadata": {},
   "outputs": [
    {
     "name": "stdout",
     "output_type": "stream",
     "text": [
      "No puedes ver el asteroide desde la tierra\n"
     ]
    }
   ],
   "source": [
    "# Agrega el código para crear una variable para un asteroide que viaja a 19 km/s\n",
    "velocidad = 19\n",
    "# Escribe varias expresiones de prueba para determinar si puedes ver el rayo de luz desde la tierra\n",
    "# Agrega las instrucciones que se ejecutarán si las expresiones de prueba son True o False\n",
    "if velocidad > 20:\n",
    "    print(\"Busca un asteroide en el cielo\")\n",
    "elif velocidad == 20:\n",
    "    print(\"Busca un asteroide en el cielo\")\n",
    "else:\n",
    "    print(\"No puedes ver el asteroide desde la tierra\")"
   ]
  },
  {
   "cell_type": "markdown",
   "metadata": {},
   "source": [
    "## Ejercicio: Uso de operadores and y or"
   ]
  },
  {
   "cell_type": "code",
   "execution_count": 3,
   "metadata": {},
   "outputs": [
    {
     "name": "stdout",
     "output_type": "stream",
     "text": [
      "No puedes ver el asteroide desde la tierra\n"
     ]
    }
   ],
   "source": [
    "#Operador or\n",
    "velocidad = 19\n",
    "if velocidad > 20 or velocidad == 20:\n",
    "    print(\"Busca un asteroide en el cielo\")\n",
    "else:\n",
    "    print(\"No puedes ver el asteroide desde la tierra\")"
   ]
  },
  {
   "cell_type": "code",
   "execution_count": 4,
   "metadata": {},
   "outputs": [
    {
     "name": "stdout",
     "output_type": "stream",
     "text": [
      "Busca un asteroide en el cielo\n"
     ]
    }
   ],
   "source": [
    "# Agrega el código para crear nuevas variables para la velocidad y el tamaño del asteroide\n",
    "velocidad = 25\n",
    "tamano = 50\n",
    "# Para probar el código, prueba con varias velocidades y tamaños\n",
    "# Escribe varias expresiones de prueba o combinaciones de expresiones de prueba para determinar qué mensaje se debe enviar a Tierra.\n",
    "if velocidad > 25 and tamano > 25:\n",
    "    print(\"ADVERTENCIA. Un asteroide se aproxima\")\n",
    "elif velocidad >=20:\n",
    "    print(\"Busca un asteroide en el cielo\")\n",
    "elif tamano < 25:\n",
    "    print(\"No puedes ver el asteroide desde la tierra\")\n",
    "else:\n",
    "    print(\"No puedes ver el asteroide desde la tierra\")"
   ]
  }
 ],
 "metadata": {
  "interpreter": {
   "hash": "36f1a25347c5c5dcce5c9a73fa1eaf644c0cdcc08a47726e78f39cec77cc1bf2"
  },
  "kernelspec": {
   "display_name": "Python 3.9.7 64-bit",
   "language": "python",
   "name": "python3"
  },
  "language_info": {
   "codemirror_mode": {
    "name": "ipython",
    "version": 3
   },
   "file_extension": ".py",
   "mimetype": "text/x-python",
   "name": "python",
   "nbconvert_exporter": "python",
   "pygments_lexer": "ipython3",
   "version": "3.9.7"
  },
  "orig_nbformat": 4
 },
 "nbformat": 4,
 "nbformat_minor": 2
}
