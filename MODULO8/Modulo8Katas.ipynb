{
  "cells": [
    {
      "cell_type": "markdown",
      "metadata": {
        "id": "lHybU0eu9TN6"
      },
      "source": [
        "## Ejercicio 1: Creación de diccionarios de Python"
      ]
    },
    {
      "cell_type": "markdown",
      "metadata": {
        "id": "AbLnArCHAzC4"
      },
      "source": [
        "# Ejercicio: Crear y modificar un diccionario de  Python"
      ]
    },
    {
      "cell_type": "code",
      "execution_count": null,
      "metadata": {
        "id": "clFxfxft9Qz5"
      },
      "outputs": [],
      "source": [
        "# Crea un diccionario llamado planet con los datos propuestos\n",
        "planet = {\n",
        "    'name' : 'Marte',\n",
        "    'moons' : 2\n",
        "}"
      ]
    },
    {
      "cell_type": "code",
      "execution_count": null,
      "metadata": {
        "colab": {
          "base_uri": "https://localhost:8080/"
        },
        "id": "bf3-OW2kBJ88",
        "outputId": "4dfa8ee9-0331-4853-def9-b133bd2be377"
      },
      "outputs": [
        {
          "name": "stdout",
          "output_type": "stream",
          "text": [
            "Marte\n",
            "2\n"
          ]
        }
      ],
      "source": [
        "# Muestra el nombre del planeta y el número de lunas que tiene\n",
        "# .get()\n",
        "print(planet.get('name'))\n",
        "\n",
        "print(planet['moons'])"
      ]
    },
    {
      "cell_type": "code",
      "execution_count": null,
      "metadata": {
        "id": "twFOC_SNBooH"
      },
      "outputs": [],
      "source": [
        "# Agrega la clave cirunferencia con los datos proporcionados previamente \n",
        "planet['circunferencia (km)'] = {\n",
        "    'polar' : 6752,\n",
        "    'equatorial' : 6792\n",
        "}"
      ]
    },
    {
      "cell_type": "code",
      "execution_count": null,
      "metadata": {
        "colab": {
          "base_uri": "https://localhost:8080/"
        },
        "id": "bgWU0-XiER0g",
        "outputId": "a4b899ae-b9f0-4d39-9118-ddbb8e9244ec"
      },
      "outputs": [
        {
          "name": "stdout",
          "output_type": "stream",
          "text": [
            "Marte tiene una circunferencia polar de 6752\n"
          ]
        }
      ],
      "source": [
        "# Imprime el nombre del planeta con su circunferencia polar\n",
        "print(f'{planet[\"name\"]} tiene una circunferencia polar de {planet[\"circunferencia (km)\"][\"polar\"]}')"
      ]
    },
    {
      "cell_type": "markdown",
      "metadata": {
        "id": "f2sk_5EfFCIX"
      },
      "source": [
        "# Ejercicio 2"
      ]
    },
    {
      "cell_type": "code",
      "execution_count": 1,
      "metadata": {
        "id": "wxkHptglKTIP"
      },
      "outputs": [],
      "source": [
        "# Planets and moons\n",
        "planet_moons = {\n",
        "    'mercury' : 0,\n",
        "    'venus' : 0,\n",
        "    'earth' : 1,\n",
        "    'mars' : 2,\n",
        "    'jupiter' : 79,\n",
        "    'saturn' : 82,\n",
        "    'uranus' : 27,\n",
        "    'neptune' : 14,\n",
        "    'pluto' : 5,\n",
        "    'haumea': 2,\n",
        "    'makemake' : 1,\n",
        "    'eris' : 1 \n",
        "}"
      ]
    },
    {
      "cell_type": "code",
      "execution_count": 2,
      "metadata": {
        "id": "PAfs-LEyFEil"
      },
      "outputs": [],
      "source": [
        "# Añade el código para determinar el número de lunas.\n",
        "moons = planet_moons.values()\n",
        "# Número de planetas\n",
        "planets = len(planet_moons.keys())"
      ]
    },
    {
      "cell_type": "code",
      "execution_count": 3,
      "metadata": {
        "colab": {
          "base_uri": "https://localhost:8080/"
        },
        "id": "fSjdp5W_JeSF",
        "outputId": "5080f453-3a4c-4f92-a7ca-dd04997edb44"
      },
      "outputs": [
        {
          "name": "stdout",
          "output_type": "stream",
          "text": [
            "Total de lunas:  214\n",
            "17.833333333333332\n"
          ]
        }
      ],
      "source": [
        "# Agrega el código para contar el número de lunas\n",
        "total_moons = 0\n",
        "for moon in moons:\n",
        "  total_moons = total_moons + moon\n",
        "\n",
        "print(\"Total de lunas: \", total_moons)\n",
        "\n",
        "# Calcule el promedio dividiendo el total_moons por planets e imprimiendo los resultados.\n",
        "promedio = total_moons / planets\n",
        "print(promedio)"
      ]
    }
  ],
  "metadata": {
    "colab": {
      "name": "Modulo8Kata.ipynb",
      "provenance": []
    },
    "kernelspec": {
      "display_name": "Python 3",
      "name": "python3"
    },
    "language_info": {
      "codemirror_mode": {
        "name": "ipython",
        "version": 3
      },
      "file_extension": ".py",
      "mimetype": "text/x-python",
      "name": "python",
      "nbconvert_exporter": "python",
      "pygments_lexer": "ipython3",
      "version": "3.9.7"
    }
  },
  "nbformat": 4,
  "nbformat_minor": 0
}
